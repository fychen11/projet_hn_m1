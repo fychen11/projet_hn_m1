{
  "cells": [
    {
      "cell_type": "code",
      "execution_count": null,
      "id": "58e2e6cc",
      "metadata": {
        "id": "58e2e6cc"
      },
      "outputs": [],
      "source": [
        "import pandas as pd\n",
        "import matplotlib.pyplot as plt\n",
        "import seaborn as sns\n",
        "import re\n",
        "\n",
        "#librairie pour la conversion des chiffres arabes en chinois\n",
        "import cn2an"
      ]
    },
    {
      "cell_type": "code",
      "source": [
        "#importer le fichier avec les pièces qui ont des inscriptions\n",
        "df = pd.read_excel('yinqi_inscription_fr.xlsx')"
      ],
      "metadata": {
        "id": "IAXbEJbZrllQ"
      },
      "id": "IAXbEJbZrllQ",
      "execution_count": null,
      "outputs": []
    },
    {
      "cell_type": "code",
      "source": [
        "#assurer que les valeurs de la colonne sont tous du type string\n",
        "df['inscriptions'] = df['inscriptions'].astype(str)"
      ],
      "metadata": {
        "id": "FBAitY6Irl6Z"
      },
      "id": "FBAitY6Irl6Z",
      "execution_count": null,
      "outputs": []
    },
    {
      "cell_type": "code",
      "execution_count": null,
      "id": "20942aa9",
      "metadata": {
        "id": "20942aa9"
      },
      "outputs": [],
      "source": [
        "#extraire les inforamtions\n",
        "def extraire_quantite(dataframe):\n",
        "    #extraire les quantités qui sont suivies de la valeur spécifique de la colonne 'espèce'\n",
        "    pattern = r\"(?P<quantité>[零一二三四五六七八九十廿卅卌百千]+)(?=\\D*{})\".format(dataframe['espèce'])\n",
        "    match = re.search(pattern, dataframe['inscription'])\n",
        "    if match:\n",
        "        return match.group('quantité')\n",
        "    return None\n"
      ]
    },
    {
      "cell_type": "code",
      "source": [
        "#appliquer à la dataframe importée\n",
        "for index, row in df.iterrows():\n",
        "    df.loc[index, 'quantité'] = extraire_quantite(df)\n",
        "\n",
        "print(df)"
      ],
      "metadata": {
        "id": "0Sz1biIWrezY"
      },
      "id": "0Sz1biIWrezY",
      "execution_count": null,
      "outputs": []
    },
    {
      "cell_type": "code",
      "source": [
        "#convertir en chiffre arabe\n",
        "df['quantité'] = df['quantité'].apply(lambda x: cn2an.transform(x, 'cn2an'))"
      ],
      "metadata": {
        "id": "HkRWVgjjtYK9"
      },
      "id": "HkRWVgjjtYK9",
      "execution_count": null,
      "outputs": []
    },
    {
      "cell_type": "code",
      "execution_count": null,
      "id": "fc2367c0",
      "metadata": {
        "id": "fc2367c0"
      },
      "outputs": [],
      "source": [
        "#exporter\n",
        "ex.to_excel('insc_avec_quantité.xlsx', index=False)"
      ]
    },
    {
      "cell_type": "code",
      "execution_count": null,
      "id": "20a22846",
      "metadata": {
        "id": "20a22846"
      },
      "outputs": [],
      "source": []
    }
  ],
  "metadata": {
    "kernelspec": {
      "display_name": "Python 3 (ipykernel)",
      "language": "python",
      "name": "python3"
    },
    "language_info": {
      "codemirror_mode": {
        "name": "ipython",
        "version": 3
      },
      "file_extension": ".py",
      "mimetype": "text/x-python",
      "name": "python",
      "nbconvert_exporter": "python",
      "pygments_lexer": "ipython3",
      "version": "3.10.9"
    },
    "colab": {
      "provenance": []
    }
  },
  "nbformat": 4,
  "nbformat_minor": 5
}