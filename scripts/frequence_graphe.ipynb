{
  "cells": [
    {
      "cell_type": "code",
      "execution_count": null,
      "id": "6506e31c",
      "metadata": {
        "id": "6506e31c"
      },
      "outputs": [],
      "source": [
        "import pandas as pd\n",
        "import matplotlib.pyplot as plt\n",
        "import seaborn as sns"
      ]
    },
    {
      "cell_type": "code",
      "execution_count": null,
      "id": "9724dd5c",
      "metadata": {
        "id": "9724dd5c"
      },
      "outputs": [],
      "source": [
        "#importer le fichier avec toutes pièces obtenues sur yinqi\n",
        "d = pd.read_excel('yinqi_tout_fr.xlsx')"
      ]
    },
    {
      "cell_type": "code",
      "execution_count": null,
      "id": "8041f961",
      "metadata": {
        "id": "8041f961"
      },
      "outputs": [],
      "source": [
        "#supprimer les NAN de la colonne\n",
        "supprimer = d.dropna(subset=['inscriptions'])\n",
        "supprimer.to_excel(\"yinqi_inscription_fr.xlsx\")"
      ]
    },
    {
      "cell_type": "code",
      "execution_count": null,
      "id": "85c98cfb",
      "metadata": {
        "id": "85c98cfb"
      },
      "outputs": [],
      "source": [
        "#importer le fichier avec les pièces qui ont des inscriptions\n",
        "df = pd.read_excel('yinqi_inscription_fr.xlsx')"
      ]
    },
    {
      "cell_type": "code",
      "execution_count": null,
      "id": "0a39db40",
      "metadata": {
        "id": "0a39db40"
      },
      "outputs": [],
      "source": [
        "#si j'utilise la version chinoise du tableau, il faut déclarer l'unicode pour les graphes\n",
        "#sns.set(palette=\"bright\",color_codes=True)\n",
        "#plt.rcParams['font.sans-serif']=['SimHei']\n",
        "#plt.rcParams['axes.unicode_minus']=False\n",
        "#sns.set(font='SimHei',font_scale=0.8)"
      ]
    },
    {
      "cell_type": "code",
      "source": [
        "def calculer_frequence(df, colonne):\n",
        "    # Calculer la fréquence\n",
        "    f = df[colonne].value_counts()\n",
        "\n",
        "    # Convertir en pourcentage\n",
        "    pourcentage = f / f.sum() * 100\n",
        "\n",
        "    return pourcentage\n"
      ],
      "metadata": {
        "id": "mVo8700bfY-B"
      },
      "id": "mVo8700bfY-B",
      "execution_count": null,
      "outputs": []
    },
    {
      "cell_type": "code",
      "source": [
        "#commencer par un tableau croisé\n",
        "tableau_croise = pd.pivot_table(df, values='espèce', index='type_destinataire', columns='cérémonie', aggfunc=len)\n",
        "#len pour compter le nombre d'occurrences de chaque combinaison de valeurs dans le tableau croisé"
      ],
      "metadata": {
        "id": "zX1sDV5ZjC-Y"
      },
      "id": "zX1sDV5ZjC-Y",
      "execution_count": null,
      "outputs": []
    },
    {
      "cell_type": "code",
      "source": [
        "# Créer un heatmap\n",
        "def generer_heatmap(tableau_croise):\n",
        "\n",
        "    plt.figure(figsize=(10, 8))\n",
        "    sns.heatmap(tableau_croise, annot=True, fmt=\"g\", cmap='YlGnBu')\n",
        "\n",
        "    # Ajouter des labels aux axes\n",
        "    plt.xlabel(columns)\n",
        "    plt.ylabel(index)\n"
      ],
      "metadata": {
        "id": "JZqpzeOxhbgw"
      },
      "id": "JZqpzeOxhbgw",
      "execution_count": null,
      "outputs": []
    },
    {
      "cell_type": "code",
      "source": [
        "  fig = generer_heatmap(tableau_croise)\n",
        "  # Enregistrer la heatmap\n",
        "  fig.savefig('heatmap.png')"
      ],
      "metadata": {
        "id": "MJ8dTziShvWH"
      },
      "id": "MJ8dTziShvWH",
      "execution_count": null,
      "outputs": []
    },
    {
      "cell_type": "code",
      "execution_count": null,
      "id": "2e4a6abd",
      "metadata": {
        "id": "2e4a6abd"
      },
      "outputs": [],
      "source": [
        "#Crée une fonction de table de croisements\n",
        "def comparer_croiser(x):\n",
        "    data_filtre = df[df['type_destinataire'] == x]\n",
        "    t = pd.crosstab(data_filtre['espèce'], data_filtre['destinataire'])\n",
        "    return t"
      ]
    },
    {
      "cell_type": "code",
      "execution_count": null,
      "id": "87803394",
      "metadata": {
        "id": "87803394"
      },
      "outputs": [],
      "source": [
        "divinite = comparer_espèce_destinaitaire('divinité')\n",
        "ancetre = comparer_espèce_destinaitaire('ancêtre')\n",
        "priere = comparer_espèce_destinaitaire('prière')\n",
        "protection = comparer_espèce_destinaitaire('protection')"
      ]
    },
    {
      "cell_type": "code",
      "execution_count": null,
      "id": "0b545f12",
      "metadata": {
        "id": "0b545f12"
      },
      "outputs": [],
      "source": [
        "# Créer un ensemble de 4 histogrammes\n",
        "fig, axes = plt.subplots(nrows=2, ncols=2, figsize=(12, 8))\n",
        "\n",
        "# Titres des sous-graphiques\n",
        "axes[0,0].set_title('Divinité')\n",
        "axes[0,1].set_title('Ancêtre')\n",
        "axes[1,1].set_title('Protection')\n",
        "axes[1,0].set_title('Prière')\n",
        "\n",
        "# Tracer les graphiques à barres groupées pour chaque but\n",
        "div.plot(kind='bar', stacked=True, ax=axes[0,0])\n",
        "axes[0,0].legend(loc='upper right') #déplacer l'emplacement de la légende\n",
        "\n",
        "pri.plot(kind='bar', stacked=True, ax=axes[1,0])\n",
        "pro.plot(kind='bar', stacked=True, ax=axes[1,1])\n",
        "anc.plot(kind='bar', stacked=True, ax=axes[0,1])\n",
        "\n",
        "# Ajuster les espacements entre les sous-graphiques\n",
        "plt.tight_layout()\n",
        "\n",
        "# Afficher le graphique\n",
        "plt.show()\n"
      ]
    },
    {
      "cell_type": "code",
      "execution_count": null,
      "id": "7dff4d2b",
      "metadata": {
        "id": "7dff4d2b"
      },
      "outputs": [],
      "source": [
        "fig.savefig('ancetre_divinite.png')"
      ]
    },
    {
      "cell_type": "code",
      "execution_count": null,
      "id": "03030176",
      "metadata": {
        "id": "03030176"
      },
      "outputs": [],
      "source": [
        "# Créer un nouveau tableau croisé pour le heatmap\n",
        "# calculer la somme des quantités lorsqu’il y a plusieurs lignes du dataframe avec la même combinaison d’espèce et cérémonie\n",
        "tableau_croise2 = pd.pivot_table(df, values='quantité', index='espèce', columns='cérémonie', aggfunc=sum)"
      ]
    },
    {
      "cell_type": "code",
      "execution_count": null,
      "id": "87e91747",
      "metadata": {
        "id": "87e91747"
      },
      "outputs": [],
      "source": [
        "fig2 = generer_heatmap(tableau_croise2)\n",
        "# Enregistrer la heatmap\n",
        "fig2.savefig('heatmap2.png')"
      ]
    }
  ],
  "metadata": {
    "kernelspec": {
      "display_name": "Python 3 (ipykernel)",
      "language": "python",
      "name": "python3"
    },
    "language_info": {
      "codemirror_mode": {
        "name": "ipython",
        "version": 3
      },
      "file_extension": ".py",
      "mimetype": "text/x-python",
      "name": "python",
      "nbconvert_exporter": "python",
      "pygments_lexer": "ipython3",
      "version": "3.10.9"
    },
    "colab": {
      "provenance": []
    }
  },
  "nbformat": 4,
  "nbformat_minor": 5
}